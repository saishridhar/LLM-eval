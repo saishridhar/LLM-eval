{
 "cells": [
  {
   "cell_type": "code",
   "execution_count": null,
   "metadata": {},
   "outputs": [],
   "source": [
    "from openai import OpenAI\n",
    "import json\n",
    "import pandas as pd\n",
    "from typing import Dict\n",
    "from tenacity import (\n",
    "    retry,\n",
    "    stop_after_attempt,\n",
    "    wait_random_exponential,\n",
    ")  # for exponential backoff\n",
    "from evaluate import load\n",
    "#import torch\n",
    "#from tensorflow.keras import backend as K\n",
    "import time\n",
    "import sys\n",
    "import numpy as np\n",
    "#from tqdm import tqdm\n"
   ]
  },
  {
   "cell_type": "code",
   "execution_count": null,
   "metadata": {},
   "outputs": [],
   "source": [
    "together = OpenAI(api_key=\"API_KEY\", base_url=\"https://api.together.xyz/v1\")\n",
    "gpt = OpenAI(api_key = \"API_KEY\")\n",
    "print(f\"[+] Done\\n\")"
   ]
  },
  {
   "cell_type": "code",
   "execution_count": null,
   "metadata": {},
   "outputs": [],
   "source": [
    "def process(context):\n",
    "    formatted_context = \"\\n\\n\".join([\n",
    "        f\"{item[0]}: {' '.join(item[1])}\" for item in context\n",
    "    ])\n",
    "    return formatted_context\n",
    "\n",
    "\n",
    "\n",
    "# change object together to gpt depending on the API\n",
    "def get_answer(context,question,model_name) -> str:\n",
    "    response = together.chat.completions.create(\n",
    "    model=model_name,\n",
    "    messages=[\n",
    "        {\"role\": \"system\", \"content\": '''You are a helpful assistant.'''},\n",
    "        {\"role\": \"user\", \"content\": f\"{context}\\n\\nGiven the above Context, Answer the Question:\\n{question}\"},\n",
    "    ],\n",
    "    max_tokens=512,\n",
    "    temperature=0.0,\n",
    "    )\n",
    "    return (response.choices[0].message.content)"
   ]
  }
 ],
 "metadata": {
  "language_info": {
   "name": "python"
  }
 },
 "nbformat": 4,
 "nbformat_minor": 2
}
